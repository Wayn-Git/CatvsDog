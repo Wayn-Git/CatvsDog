{
  "cells": [
    {
      "cell_type": "code",
      "execution_count": 2,
      "id": "MSj0jl0Cv4pg",
      "metadata": {
        "colab": {
          "base_uri": "https://localhost:8080/"
        },
        "id": "MSj0jl0Cv4pg",
        "outputId": "e987de51-46d0-4a88-bc80-6a9322ca3403"
      },
      "outputs": [],
      "source": [
        "# !git clone https://github.com/Wayn-Git/CatvsDog"
      ]
    },
    {
      "cell_type": "code",
      "execution_count": 3,
      "id": "hffTfUnH3DV0",
      "metadata": {
        "colab": {
          "base_uri": "https://localhost:8080/"
        },
        "id": "hffTfUnH3DV0",
        "outputId": "c3778d40-1c8e-4b1c-ac04-357264f8ab9d"
      },
      "outputs": [],
      "source": [
        "# %cd CatvsDog"
      ]
    },
    {
      "cell_type": "markdown",
      "id": "d59856f4",
      "metadata": {
        "id": "d59856f4"
      },
      "source": [
        "# Importing Libraries"
      ]
    },
    {
      "cell_type": "code",
      "execution_count": 4,
      "id": "5dac6893",
      "metadata": {
        "id": "5dac6893"
      },
      "outputs": [],
      "source": [
        "import tensorflow as tf\n",
        "from tensorflow.keras.preprocessing.image import ImageDataGenerator\n",
        "from tensorflow.keras.layers import Conv2D, MaxPooling2D, Dropout, BatchNormalization, Dense, Flatten, GlobalAveragePooling2D\n",
        "from tensorflow.keras.models import Sequential\n",
        "from tensorflow.keras import layers, models\n",
        "from tensorflow.keras.applications import MobileNetV2\n",
        "import matplotlib.pyplot as plt\n",
        "import seaborn as sns"
      ]
    },
    {
      "cell_type": "markdown",
      "id": "39d0d818",
      "metadata": {},
      "source": [
        "## Assigning the Directory"
      ]
    },
    {
      "cell_type": "code",
      "execution_count": 5,
      "id": "2784b5ea",
      "metadata": {},
      "outputs": [],
      "source": [
        "train_dir = \"../Data/train\"\n",
        "test_dir = \"../Data/test\""
      ]
    },
    {
      "cell_type": "markdown",
      "id": "df3a0096",
      "metadata": {},
      "source": [
        "## Making a train and test generator "
      ]
    },
    {
      "cell_type": "code",
      "execution_count": 6,
      "id": "6bdaea48",
      "metadata": {
        "colab": {
          "base_uri": "https://localhost:8080/"
        },
        "id": "6bdaea48",
        "outputId": "630d3da7-2ccc-4e69-f7fc-1a95c8e89b06"
      },
      "outputs": [
        {
          "name": "stdout",
          "output_type": "stream",
          "text": [
            "Found 8005 images belonging to 2 classes.\n",
            "Found 2023 images belonging to 2 classes.\n"
          ]
        }
      ],
      "source": [
        "\n",
        "\n",
        "trainGen = ImageDataGenerator(rescale=1./255, horizontal_flip=True, zoom_range=0.1, width_shift_range=0.1, height_shift_range=0.1)\n",
        "testGen = ImageDataGenerator(rescale=1./255)\n",
        "\n",
        "\n",
        "train_gen = trainGen.flow_from_directory(train_dir,\n",
        "                                          target_size=(160,160), \n",
        "                                          batch_size=64,\n",
        "                                            class_mode=\"binary\")\n",
        "test_gen = testGen.flow_from_directory(test_dir,\n",
        "                                        batch_size=64 ,\n",
        "                                        target_size=(160,160), \n",
        "                                        class_mode=\"binary\")"
      ]
    },
    {
      "cell_type": "markdown",
      "id": "b37b160c",
      "metadata": {},
      "source": [
        "## Checking the number of samples "
      ]
    },
    {
      "cell_type": "code",
      "execution_count": 7,
      "id": "170e4c43",
      "metadata": {
        "colab": {
          "base_uri": "https://localhost:8080/"
        },
        "id": "170e4c43",
        "outputId": "b374c4c4-a105-42b1-98b3-8d33623fc4d4"
      },
      "outputs": [
        {
          "name": "stdout",
          "output_type": "stream",
          "text": [
            "training samples: 8005\n",
            "test samples: 2023\n",
            "class indices: {'cats': 0, 'dogs': 1}\n"
          ]
        }
      ],
      "source": [
        "print(\"training samples:\", train_gen.samples)\n",
        "print(\"test samples:\", test_gen.samples)\n",
        "print(\"class indices:\", train_gen.class_indices)"
      ]
    },
    {
      "cell_type": "code",
      "execution_count": 8,
      "id": "01660d7e",
      "metadata": {},
      "outputs": [],
      "source": [
        "## Initializing the model. Using Tranfer Learning for better training"
      ]
    },
    {
      "cell_type": "code",
      "execution_count": 9,
      "id": "bd5c34b4",
      "metadata": {},
      "outputs": [
        {
          "name": "stdout",
          "output_type": "stream",
          "text": [
            "Creating Transfer Learning model with MobileNetV2...\n"
          ]
        }
      ],
      "source": [
        "TRANSFER_LEARNING = True\n",
        "\n",
        "if TRANSFER_LEARNING:\n",
        "    print(\"Creating Transfer Learning model with MobileNetV2...\")\n",
        "\n",
        "    base_model = MobileNetV2(\n",
        "        input_shape=(160, 160, 3),\n",
        "        include_top=False,\n",
        "        weights='imagenet'\n",
        "    )\n",
        "    base_model.trainable = False \n",
        "\n",
        "    model = models.Sequential([\n",
        "        base_model,\n",
        "        GlobalAveragePooling2D(),\n",
        "        Dropout(0.3),\n",
        "        Dense(128, activation='relu'),\n",
        "        Dropout(0.5),\n",
        "        Dense(1, activation='sigmoid')\n",
        "    ])\n",
        "else:\n",
        "    print(\"Creating Lightweight Custom CNN...\")\n",
        "\n",
        "    model = models.Sequential([\n",
        "        layers.Input(shape=(160,160,3)),\n",
        "\n",
        "        Conv2D(16 , (3,3), activation='relu', padding='same'),\n",
        "        BatchNormalization(),\n",
        "        MaxPooling2D(2,2),\n",
        "        Dropout(0.25),\n",
        "\n",
        "        Conv2D(32, (3,3), activation='relu', padding='same'),\n",
        "        BatchNormalization(),\n",
        "        MaxPooling2D(2,2),\n",
        "        Dropout(0.25),\n",
        "\n",
        "        Conv2D(64, (3,3), activation = 'relu', padding='same'),\n",
        "        BatchNormalization(),\n",
        "        MaxPooling2D(2,2),\n",
        "        Dropout(0.25),\n",
        "\n",
        "        GlobalAveragePooling2D(),\n",
        "\n",
        "        Dense(32, activation='relu'),\n",
        "        Dropout(0.5),\n",
        "        Dense(1, activation='sigmoid')\n",
        "    ])\n"
      ]
    },
    {
      "cell_type": "markdown",
      "id": "9237c98f",
      "metadata": {},
      "source": [
        "## Compiling the Model"
      ]
    },
    {
      "cell_type": "code",
      "execution_count": 10,
      "id": "9b3e4875",
      "metadata": {},
      "outputs": [],
      "source": [
        "model.compile(\n",
        "    optimizer='adam',\n",
        "    loss='binary_crossentropy',\n",
        "    metrics=['accuracy']\n",
        ")"
      ]
    },
    {
      "cell_type": "markdown",
      "id": "f10f718e",
      "metadata": {},
      "source": [
        "## Displaying the model summary"
      ]
    },
    {
      "cell_type": "code",
      "execution_count": 11,
      "id": "4455ed6c",
      "metadata": {
        "colab": {
          "base_uri": "https://localhost:8080/",
          "height": 935
        },
        "id": "4455ed6c",
        "outputId": "8818dbd8-1e20-4502-8c3d-7457dc37fd3c"
      },
      "outputs": [
        {
          "data": {
            "text/html": [
              "<pre style=\"white-space:pre;overflow-x:auto;line-height:normal;font-family:Menlo,'DejaVu Sans Mono',consolas,'Courier New',monospace\"><span style=\"font-weight: bold\">Model: \"sequential\"</span>\n",
              "</pre>\n"
            ],
            "text/plain": [
              "\u001b[1mModel: \"sequential\"\u001b[0m\n"
            ]
          },
          "metadata": {},
          "output_type": "display_data"
        },
        {
          "data": {
            "text/html": [
              "<pre style=\"white-space:pre;overflow-x:auto;line-height:normal;font-family:Menlo,'DejaVu Sans Mono',consolas,'Courier New',monospace\">┏━━━━━━━━━━━━━━━━━━━━━━━━━━━━━━━━━┳━━━━━━━━━━━━━━━━━━━━━━━━┳━━━━━━━━━━━━━━━┓\n",
              "┃<span style=\"font-weight: bold\"> Layer (type)                    </span>┃<span style=\"font-weight: bold\"> Output Shape           </span>┃<span style=\"font-weight: bold\">       Param # </span>┃\n",
              "┡━━━━━━━━━━━━━━━━━━━━━━━━━━━━━━━━━╇━━━━━━━━━━━━━━━━━━━━━━━━╇━━━━━━━━━━━━━━━┩\n",
              "│ mobilenetv2_1.00_160            │ (<span style=\"color: #00d7ff; text-decoration-color: #00d7ff\">None</span>, <span style=\"color: #00af00; text-decoration-color: #00af00\">5</span>, <span style=\"color: #00af00; text-decoration-color: #00af00\">5</span>, <span style=\"color: #00af00; text-decoration-color: #00af00\">1280</span>)     │     <span style=\"color: #00af00; text-decoration-color: #00af00\">2,257,984</span> │\n",
              "│ (<span style=\"color: #0087ff; text-decoration-color: #0087ff\">Functional</span>)                    │                        │               │\n",
              "├─────────────────────────────────┼────────────────────────┼───────────────┤\n",
              "│ global_average_pooling2d        │ (<span style=\"color: #00d7ff; text-decoration-color: #00d7ff\">None</span>, <span style=\"color: #00af00; text-decoration-color: #00af00\">1280</span>)           │             <span style=\"color: #00af00; text-decoration-color: #00af00\">0</span> │\n",
              "│ (<span style=\"color: #0087ff; text-decoration-color: #0087ff\">GlobalAveragePooling2D</span>)        │                        │               │\n",
              "├─────────────────────────────────┼────────────────────────┼───────────────┤\n",
              "│ dropout (<span style=\"color: #0087ff; text-decoration-color: #0087ff\">Dropout</span>)               │ (<span style=\"color: #00d7ff; text-decoration-color: #00d7ff\">None</span>, <span style=\"color: #00af00; text-decoration-color: #00af00\">1280</span>)           │             <span style=\"color: #00af00; text-decoration-color: #00af00\">0</span> │\n",
              "├─────────────────────────────────┼────────────────────────┼───────────────┤\n",
              "│ dense (<span style=\"color: #0087ff; text-decoration-color: #0087ff\">Dense</span>)                   │ (<span style=\"color: #00d7ff; text-decoration-color: #00d7ff\">None</span>, <span style=\"color: #00af00; text-decoration-color: #00af00\">128</span>)            │       <span style=\"color: #00af00; text-decoration-color: #00af00\">163,968</span> │\n",
              "├─────────────────────────────────┼────────────────────────┼───────────────┤\n",
              "│ dropout_1 (<span style=\"color: #0087ff; text-decoration-color: #0087ff\">Dropout</span>)             │ (<span style=\"color: #00d7ff; text-decoration-color: #00d7ff\">None</span>, <span style=\"color: #00af00; text-decoration-color: #00af00\">128</span>)            │             <span style=\"color: #00af00; text-decoration-color: #00af00\">0</span> │\n",
              "├─────────────────────────────────┼────────────────────────┼───────────────┤\n",
              "│ dense_1 (<span style=\"color: #0087ff; text-decoration-color: #0087ff\">Dense</span>)                 │ (<span style=\"color: #00d7ff; text-decoration-color: #00d7ff\">None</span>, <span style=\"color: #00af00; text-decoration-color: #00af00\">1</span>)              │           <span style=\"color: #00af00; text-decoration-color: #00af00\">129</span> │\n",
              "└─────────────────────────────────┴────────────────────────┴───────────────┘\n",
              "</pre>\n"
            ],
            "text/plain": [
              "┏━━━━━━━━━━━━━━━━━━━━━━━━━━━━━━━━━┳━━━━━━━━━━━━━━━━━━━━━━━━┳━━━━━━━━━━━━━━━┓\n",
              "┃\u001b[1m \u001b[0m\u001b[1mLayer (type)                   \u001b[0m\u001b[1m \u001b[0m┃\u001b[1m \u001b[0m\u001b[1mOutput Shape          \u001b[0m\u001b[1m \u001b[0m┃\u001b[1m \u001b[0m\u001b[1m      Param #\u001b[0m\u001b[1m \u001b[0m┃\n",
              "┡━━━━━━━━━━━━━━━━━━━━━━━━━━━━━━━━━╇━━━━━━━━━━━━━━━━━━━━━━━━╇━━━━━━━━━━━━━━━┩\n",
              "│ mobilenetv2_1.00_160            │ (\u001b[38;5;45mNone\u001b[0m, \u001b[38;5;34m5\u001b[0m, \u001b[38;5;34m5\u001b[0m, \u001b[38;5;34m1280\u001b[0m)     │     \u001b[38;5;34m2,257,984\u001b[0m │\n",
              "│ (\u001b[38;5;33mFunctional\u001b[0m)                    │                        │               │\n",
              "├─────────────────────────────────┼────────────────────────┼───────────────┤\n",
              "│ global_average_pooling2d        │ (\u001b[38;5;45mNone\u001b[0m, \u001b[38;5;34m1280\u001b[0m)           │             \u001b[38;5;34m0\u001b[0m │\n",
              "│ (\u001b[38;5;33mGlobalAveragePooling2D\u001b[0m)        │                        │               │\n",
              "├─────────────────────────────────┼────────────────────────┼───────────────┤\n",
              "│ dropout (\u001b[38;5;33mDropout\u001b[0m)               │ (\u001b[38;5;45mNone\u001b[0m, \u001b[38;5;34m1280\u001b[0m)           │             \u001b[38;5;34m0\u001b[0m │\n",
              "├─────────────────────────────────┼────────────────────────┼───────────────┤\n",
              "│ dense (\u001b[38;5;33mDense\u001b[0m)                   │ (\u001b[38;5;45mNone\u001b[0m, \u001b[38;5;34m128\u001b[0m)            │       \u001b[38;5;34m163,968\u001b[0m │\n",
              "├─────────────────────────────────┼────────────────────────┼───────────────┤\n",
              "│ dropout_1 (\u001b[38;5;33mDropout\u001b[0m)             │ (\u001b[38;5;45mNone\u001b[0m, \u001b[38;5;34m128\u001b[0m)            │             \u001b[38;5;34m0\u001b[0m │\n",
              "├─────────────────────────────────┼────────────────────────┼───────────────┤\n",
              "│ dense_1 (\u001b[38;5;33mDense\u001b[0m)                 │ (\u001b[38;5;45mNone\u001b[0m, \u001b[38;5;34m1\u001b[0m)              │           \u001b[38;5;34m129\u001b[0m │\n",
              "└─────────────────────────────────┴────────────────────────┴───────────────┘\n"
            ]
          },
          "metadata": {},
          "output_type": "display_data"
        },
        {
          "data": {
            "text/html": [
              "<pre style=\"white-space:pre;overflow-x:auto;line-height:normal;font-family:Menlo,'DejaVu Sans Mono',consolas,'Courier New',monospace\"><span style=\"font-weight: bold\"> Total params: </span><span style=\"color: #00af00; text-decoration-color: #00af00\">2,422,081</span> (9.24 MB)\n",
              "</pre>\n"
            ],
            "text/plain": [
              "\u001b[1m Total params: \u001b[0m\u001b[38;5;34m2,422,081\u001b[0m (9.24 MB)\n"
            ]
          },
          "metadata": {},
          "output_type": "display_data"
        },
        {
          "data": {
            "text/html": [
              "<pre style=\"white-space:pre;overflow-x:auto;line-height:normal;font-family:Menlo,'DejaVu Sans Mono',consolas,'Courier New',monospace\"><span style=\"font-weight: bold\"> Trainable params: </span><span style=\"color: #00af00; text-decoration-color: #00af00\">164,097</span> (641.00 KB)\n",
              "</pre>\n"
            ],
            "text/plain": [
              "\u001b[1m Trainable params: \u001b[0m\u001b[38;5;34m164,097\u001b[0m (641.00 KB)\n"
            ]
          },
          "metadata": {},
          "output_type": "display_data"
        },
        {
          "data": {
            "text/html": [
              "<pre style=\"white-space:pre;overflow-x:auto;line-height:normal;font-family:Menlo,'DejaVu Sans Mono',consolas,'Courier New',monospace\"><span style=\"font-weight: bold\"> Non-trainable params: </span><span style=\"color: #00af00; text-decoration-color: #00af00\">2,257,984</span> (8.61 MB)\n",
              "</pre>\n"
            ],
            "text/plain": [
              "\u001b[1m Non-trainable params: \u001b[0m\u001b[38;5;34m2,257,984\u001b[0m (8.61 MB)\n"
            ]
          },
          "metadata": {},
          "output_type": "display_data"
        }
      ],
      "source": [
        "model.summary()"
      ]
    },
    {
      "cell_type": "markdown",
      "id": "fcceb562",
      "metadata": {},
      "source": [
        "## Early stopping to avoid over fitting and useless epochs"
      ]
    },
    {
      "cell_type": "code",
      "execution_count": 12,
      "id": "0923a7a4",
      "metadata": {},
      "outputs": [],
      "source": [
        "early_stopping = tf.keras.callbacks.EarlyStopping(\n",
        "    monitor='val_accuracy',\n",
        "    patience=5,\n",
        "    restore_best_weights=True,\n",
        "    verbose=1\n",
        ")"
      ]
    },
    {
      "cell_type": "markdown",
      "id": "48eda54d",
      "metadata": {},
      "source": [
        "## Reduce Lr to make sure that the model learns (Slows down the model so it learns)"
      ]
    },
    {
      "cell_type": "code",
      "execution_count": 13,
      "id": "0f0aa7b2",
      "metadata": {},
      "outputs": [],
      "source": [
        "reduce_lr = tf.keras.callbacks.ReduceLROnPlateau(\n",
        "    monitor='val_loss',    \n",
        "    factor=0.2,           \n",
        "    patience=3,           \n",
        "    min_lr=1e-7,           \n",
        "    verbose=1             \n",
        ")"
      ]
    },
    {
      "cell_type": "markdown",
      "id": "0336724f",
      "metadata": {},
      "source": [
        "## Initizalizing a callbacks variable"
      ]
    },
    {
      "cell_type": "code",
      "execution_count": 14,
      "id": "25f92abc",
      "metadata": {},
      "outputs": [],
      "source": [
        "callbacks = [early_stopping, reduce_lr]"
      ]
    },
    {
      "cell_type": "markdown",
      "id": "d3909604",
      "metadata": {},
      "source": [
        "## Actual Training of the model"
      ]
    },
    {
      "cell_type": "code",
      "execution_count": 15,
      "id": "2a159206",
      "metadata": {
        "colab": {
          "base_uri": "https://localhost:8080/"
        },
        "id": "2a159206",
        "outputId": "cd08df1b-9dd3-487e-cc61-d5f2695cfeb6"
      },
      "outputs": [
        {
          "name": "stderr",
          "output_type": "stream",
          "text": [
            "c:\\Users\\bilal\\AppData\\Local\\Programs\\Python\\Python310\\lib\\site-packages\\keras\\src\\trainers\\data_adapters\\py_dataset_adapter.py:121: UserWarning: Your `PyDataset` class should call `super().__init__(**kwargs)` in its constructor. `**kwargs` can include `workers`, `use_multiprocessing`, `max_queue_size`. Do not pass these arguments to `fit()`, as they will be ignored.\n",
            "  self._warn_if_super_not_called()\n"
          ]
        },
        {
          "name": "stdout",
          "output_type": "stream",
          "text": [
            "Epoch 1/30\n",
            "\u001b[1m125/125\u001b[0m \u001b[32m━━━━━━━━━━━━━━━━━━━━\u001b[0m\u001b[37m\u001b[0m \u001b[1m169s\u001b[0m 1s/step - accuracy: 0.8988 - loss: 0.2262 - val_accuracy: 0.9753 - val_loss: 0.0661 - learning_rate: 0.0010\n",
            "Epoch 2/30\n",
            "\u001b[1m  1/125\u001b[0m \u001b[37m━━━━━━━━━━━━━━━━━━━━\u001b[0m \u001b[1m1:30\u001b[0m 729ms/step - accuracy: 0.9844 - loss: 0.0938"
          ]
        },
        {
          "name": "stderr",
          "output_type": "stream",
          "text": [
            "c:\\Users\\bilal\\AppData\\Local\\Programs\\Python\\Python310\\lib\\site-packages\\keras\\src\\trainers\\epoch_iterator.py:116: UserWarning: Your input ran out of data; interrupting training. Make sure that your dataset or generator can generate at least `steps_per_epoch * epochs` batches. You may need to use the `.repeat()` function when building your dataset.\n",
            "  self._interrupted_warning()\n"
          ]
        },
        {
          "name": "stdout",
          "output_type": "stream",
          "text": [
            "\u001b[1m125/125\u001b[0m \u001b[32m━━━━━━━━━━━━━━━━━━━━\u001b[0m\u001b[37m\u001b[0m \u001b[1m26s\u001b[0m 205ms/step - accuracy: 0.9844 - loss: 0.0938 - val_accuracy: 0.9763 - val_loss: 0.0625 - learning_rate: 0.0010\n",
            "Epoch 3/30\n",
            "\u001b[1m125/125\u001b[0m \u001b[32m━━━━━━━━━━━━━━━━━━━━\u001b[0m\u001b[37m\u001b[0m \u001b[1m127s\u001b[0m 1s/step - accuracy: 0.9622 - loss: 0.0978 - val_accuracy: 0.9713 - val_loss: 0.0680 - learning_rate: 0.0010\n",
            "Epoch 4/30\n",
            "\u001b[1m125/125\u001b[0m \u001b[32m━━━━━━━━━━━━━━━━━━━━\u001b[0m\u001b[37m\u001b[0m \u001b[1m26s\u001b[0m 206ms/step - accuracy: 0.9531 - loss: 0.0900 - val_accuracy: 0.9718 - val_loss: 0.0687 - learning_rate: 0.0010\n",
            "Epoch 5/30\n",
            "\u001b[1m125/125\u001b[0m \u001b[32m━━━━━━━━━━━━━━━━━━━━\u001b[0m\u001b[37m\u001b[0m \u001b[1m0s\u001b[0m 1000ms/step - accuracy: 0.9640 - loss: 0.0917\n",
            "Epoch 5: ReduceLROnPlateau reducing learning rate to 0.00020000000949949026.\n",
            "\u001b[1m125/125\u001b[0m \u001b[32m━━━━━━━━━━━━━━━━━━━━\u001b[0m\u001b[37m\u001b[0m \u001b[1m144s\u001b[0m 1s/step - accuracy: 0.9640 - loss: 0.0918 - val_accuracy: 0.9793 - val_loss: 0.0665 - learning_rate: 0.0010\n",
            "Epoch 6/30\n",
            "\u001b[1m125/125\u001b[0m \u001b[32m━━━━━━━━━━━━━━━━━━━━\u001b[0m\u001b[37m\u001b[0m \u001b[1m21s\u001b[0m 161ms/step - accuracy: 0.9844 - loss: 0.0423 - val_accuracy: 0.9778 - val_loss: 0.0678 - learning_rate: 2.0000e-04\n",
            "Epoch 7/30\n",
            "\u001b[1m125/125\u001b[0m \u001b[32m━━━━━━━━━━━━━━━━━━━━\u001b[0m\u001b[37m\u001b[0m \u001b[1m145s\u001b[0m 1s/step - accuracy: 0.9704 - loss: 0.0786 - val_accuracy: 0.9768 - val_loss: 0.0630 - learning_rate: 2.0000e-04\n",
            "Epoch 8/30\n",
            "\u001b[1m  1/125\u001b[0m \u001b[37m━━━━━━━━━━━━━━━━━━━━\u001b[0m \u001b[1m1:20\u001b[0m 649ms/step - accuracy: 1.0000 - loss: 0.0320\n",
            "Epoch 8: ReduceLROnPlateau reducing learning rate to 4.0000001899898055e-05.\n",
            "\u001b[1m125/125\u001b[0m \u001b[32m━━━━━━━━━━━━━━━━━━━━\u001b[0m\u001b[37m\u001b[0m \u001b[1m23s\u001b[0m 177ms/step - accuracy: 1.0000 - loss: 0.0320 - val_accuracy: 0.9763 - val_loss: 0.0639 - learning_rate: 2.0000e-04\n",
            "Epoch 9/30\n",
            "\u001b[1m125/125\u001b[0m \u001b[32m━━━━━━━━━━━━━━━━━━━━\u001b[0m\u001b[37m\u001b[0m \u001b[1m144s\u001b[0m 1s/step - accuracy: 0.9752 - loss: 0.0764 - val_accuracy: 0.9778 - val_loss: 0.0653 - learning_rate: 4.0000e-05\n",
            "Epoch 10/30\n",
            "\u001b[1m125/125\u001b[0m \u001b[32m━━━━━━━━━━━━━━━━━━━━\u001b[0m\u001b[37m\u001b[0m \u001b[1m19s\u001b[0m 147ms/step - accuracy: 0.9844 - loss: 0.0419 - val_accuracy: 0.9778 - val_loss: 0.0651 - learning_rate: 4.0000e-05\n",
            "Epoch 10: early stopping\n",
            "Restoring model weights from the end of the best epoch: 5.\n"
          ]
        }
      ],
      "source": [
        "history = model.fit(train_gen,\n",
        "                    epochs=30,\n",
        "                    validation_data=test_gen,\n",
        "                    verbose=1,\n",
        "                    callbacks=callbacks,\n",
        "                    steps_per_epoch=train_gen.samples // train_gen.batch_size,\n",
        "                    validation_steps=test_gen.samples // test_gen.batch_size)"
      ]
    },
    {
      "cell_type": "markdown",
      "id": "0837d594",
      "metadata": {
        "id": "0837d594"
      },
      "source": []
    },
    {
      "cell_type": "markdown",
      "id": "1391e100",
      "metadata": {},
      "source": [
        "## Displaying the Accuracy and Lose"
      ]
    },
    {
      "cell_type": "code",
      "execution_count": 16,
      "id": "db74f31b",
      "metadata": {
        "colab": {
          "base_uri": "https://localhost:8080/"
        },
        "id": "db74f31b",
        "outputId": "9d700977-807a-49fc-de3f-a07a4033f393"
      },
      "outputs": [
        {
          "name": "stdout",
          "output_type": "stream",
          "text": [
            "\u001b[1m32/32\u001b[0m \u001b[32m━━━━━━━━━━━━━━━━━━━━\u001b[0m\u001b[37m\u001b[0m \u001b[1m19s\u001b[0m 580ms/step - accuracy: 0.9746 - loss: 0.0725\n",
            "Test Accuracy: 0.9783\n",
            "Test Loss: 0.0675\n"
          ]
        }
      ],
      "source": [
        "test_loss, test_accuracy = model.evaluate(test_gen)\n",
        "print(f\"Test Accuracy: {test_accuracy:.4f}\")\n",
        "print(f\"Test Loss: {test_loss:.4f}\")"
      ]
    },
    {
      "cell_type": "markdown",
      "id": "4a115a34",
      "metadata": {},
      "source": [
        "## Visual Representation of the train accuracy, val accuracy, Train Lose and Val Lose (Val = Test)\n"
      ]
    },
    {
      "cell_type": "code",
      "execution_count": 17,
      "id": "eca61b68",
      "metadata": {
        "colab": {
          "base_uri": "https://localhost:8080/",
          "height": 927
        },
        "id": "eca61b68",
        "outputId": "76c425ce-b473-4f5f-b90d-197fd17cf4b0"
      },
      "outputs": [
        {
          "data": {
            "image/png": "[encoded data removed]",
            "text/plain": [
              "<Figure size 640x480 with 1 Axes>"
            ]
          },
          "metadata": {},
          "output_type": "display_data"
        },
        {
          "data": {
            "image/png": "[encoded data removed]",
            "text/plain": [
              "<Figure size 640x480 with 1 Axes>"
            ]
          },
          "metadata": {},
          "output_type": "display_data"
        }
      ],
      "source": [
        "import matplotlib.pyplot as plt\n",
        "\n",
        "\n",
        "plt.plot(history.history['accuracy'], label='Train Accuracy')\n",
        "plt.plot(history.history['val_accuracy'], label='Val Accuracy')\n",
        "plt.title('Accuracy')\n",
        "plt.xlabel('Epoch')\n",
        "plt.ylabel('Accuracy')\n",
        "plt.legend()\n",
        "plt.grid()\n",
        "plt.show()\n",
        "\n",
        "plt.plot(history.history['loss'], label='Train Loss')\n",
        "plt.plot(history.history['val_loss'], label='Val Loss')\n",
        "plt.title('Loss')\n",
        "plt.xlabel('Epoch')\n",
        "plt.ylabel('Loss')\n",
        "plt.legend()\n",
        "plt.grid()\n",
        "plt.show()\n"
      ]
    },
    {
      "cell_type": "markdown",
      "id": "91e85ff7",
      "metadata": {},
      "source": [
        "### (Was used in collab)"
      ]
    },
    {
      "cell_type": "code",
      "execution_count": 18,
      "id": "sC2KTjYA7dQA",
      "metadata": {
        "id": "sC2KTjYA7dQA"
      },
      "outputs": [],
      "source": [
        "# import os\n",
        "# os.makedirs(\"model\", exist_ok=True)"
      ]
    },
    {
      "cell_type": "markdown",
      "id": "04dec7e1",
      "metadata": {},
      "source": [
        "### (Was used in collab)"
      ]
    },
    {
      "cell_type": "code",
      "execution_count": 21,
      "id": "kQzxZ6UO6-0R",
      "metadata": {
        "id": "kQzxZ6UO6-0R"
      },
      "outputs": [],
      "source": [
        "model.save(\"../Model/cat_dog_model.keras\")"
      ]
    },
    {
      "cell_type": "markdown",
      "id": "e2efa432",
      "metadata": {},
      "source": [
        "## Predicting to see if it works"
      ]
    },
    {
      "cell_type": "code",
      "execution_count": 22,
      "id": "42ac3d86",
      "metadata": {
        "colab": {
          "base_uri": "https://localhost:8080/",
          "height": 490
        },
        "id": "42ac3d86",
        "outputId": "6e55841f-b9dc-4111-ed85-25b84f2d5113"
      },
      "outputs": [
        {
          "name": "stdout",
          "output_type": "stream",
          "text": [
            "\u001b[1m1/1\u001b[0m \u001b[32m━━━━━━━━━━━━━━━━━━━━\u001b[0m\u001b[37m\u001b[0m \u001b[1m1s\u001b[0m 800ms/step\n",
            "Predicted: Cat 🐱\n"
          ]
        }
      ],
      "source": [
        "from tensorflow.keras.preprocessing import image\n",
        "import numpy as np\n",
        "\n",
        "img_path = \"../Data/test/cats/cat.4024.jpg\"\n",
        "img = image.load_img(img_path, target_size=(160, 160))\n",
        "img_array = image.img_to_array(img) / 255.0\n",
        "img_array = np.expand_dims(img_array, axis=0)\n",
        "\n",
        "prediction = model.predict(img_array)\n",
        "\n",
        "if prediction[0][0] > 0.5:\n",
        "    print(\"Predicted: Dog 🐶\")\n",
        "else:\n",
        "    print(\"Predicted: Cat 🐱\")\n"
      ]
    }
  ],
  "metadata": {
    "accelerator": "GPU",
    "colab": {
      "gpuType": "T4",
      "provenance": []
    },
    "kernelspec": {
      "display_name": "Python 3",
      "name": "python3"
    },
    "language_info": {
      "codemirror_mode": {
        "name": "ipython",
        "version": 3
      },
      "file_extension": ".py",
      "mimetype": "text/x-python",
      "name": "python",
      "nbconvert_exporter": "python",
      "pygments_lexer": "ipython3",
      "version": "3.10.0"
    }
  },
  "nbformat": 4,
  "nbformat_minor": 5
}
